{
 "cells": [
  {
   "cell_type": "markdown",
   "metadata": {},
   "source": [
    "# Descente de gradient "
   ]
  },
  {
   "cell_type": "code",
   "execution_count": 2,
   "metadata": {},
   "outputs": [],
   "source": [
    "import numpy as np\n",
    "import matplotlib.pyplot as plt"
   ]
  },
  {
   "cell_type": "code",
   "execution_count": 3,
   "metadata": {},
   "outputs": [],
   "source": [
    "def E(x):\n",
    "    return (x-1)*(x-2)*(x-3)*(x-5) # =  x**4 - 11 x**3 + 41 x**2 - 61 x + 30\n",
    "    "
   ]
  },
  {
   "cell_type": "code",
   "execution_count": 4,
   "metadata": {},
   "outputs": [
    {
     "data": {
      "text/plain": [
       "-6"
      ]
     },
     "execution_count": 4,
     "metadata": {},
     "output_type": "execute_result"
    }
   ],
   "source": [
    "E(4)"
   ]
  },
  {
   "cell_type": "code",
   "execution_count": 5,
   "metadata": {},
   "outputs": [
    {
     "data": {
      "text/plain": [
       "Text(0.5, 1.0, ' Graphe de la Fonction  E(x)')"
      ]
     },
     "execution_count": 5,
     "metadata": {},
     "output_type": "execute_result"
    },
    {
     "data": {
      "image/png": "[encoded data removed]",
      "text/plain": [
       "<Figure size 432x288 with 1 Axes>"
      ]
     },
     "metadata": {
      "needs_background": "light"
     },
     "output_type": "display_data"
    }
   ],
   "source": [
    "w = np.arange(0, 6.0, 0.01)\n",
    "v = E(w)\n",
    "\n",
    "plt.plot(w, v,'r-')\n",
    "plt.title(\" Graphe de la Fonction  E(x)\")\n",
    "#plt.show()"
   ]
  },
  {
   "cell_type": "code",
   "execution_count": 6,
   "metadata": {},
   "outputs": [],
   "source": [
    "#Dérivée\n",
    "def dE(x):\n",
    "    return 4*(x)**3 - 33*(x)**2 + 82*x - 61"
   ]
  },
  {
   "cell_type": "code",
   "execution_count": 7,
   "metadata": {},
   "outputs": [
    {
     "data": {
      "text/plain": [
       "-5"
      ]
     },
     "execution_count": 7,
     "metadata": {},
     "output_type": "execute_result"
    }
   ],
   "source": [
    "dE(4)"
   ]
  },
  {
   "cell_type": "code",
   "execution_count": 8,
   "metadata": {},
   "outputs": [],
   "source": [
    "def gradient(max_it,eps,x0,step,dE):\n",
    "    x=x0\n",
    "    x_l= []\n",
    "    Ex_l = []\n",
    "    for i in range(max_it):\n",
    "        x_preced= x\n",
    "        x = x_preced - (step*dE(x_preced))\n",
    "        x_l.append(x)\n",
    "        Ex_l.append(E(x))\n",
    "        if abs(x - x_preced<eps):\n",
    "            #plt.subplot(111)\n",
    "            #plt.scatter(x_l,Ex_l)\n",
    "            #w = np.arange(0, 6.0, 0.01)\n",
    "            #v = E(w)\n",
    "            #plt.plot(w, v,'r-')\n",
    "            #plt.show()\n",
    "            #return print(\"Xmin:\\t\", x ,\"E(Xmin):\\t\" , E(x),\"Nbre Itération:\\t\",i) \n",
    "            return [x,E(x)]\n",
    "    #print(\"Xmin:\\t\", x ,\"E(Xmin):\\t\" , E(x),\"Nbre Itération:\\t\",i) \n",
    "    return [x,E(x)]"
   ]
  },
  {
   "cell_type": "code",
   "execution_count": 9,
   "metadata": {},
   "outputs": [
    {
     "name": "stdout",
     "output_type": "stream",
     "text": [
      "(a) x0 = 5 et η = 0.001\n",
      "Xmin ***_*** E(Xmin) ***_***\n",
      "[4.976, -0.5611480842240004] \n",
      "\n",
      "(b) x0 = 5 et η = 0.01\n",
      "Xmin ***_*** E(Xmin) ***_***\n",
      "[4.76, -4.383498240000003] \n",
      "\n",
      "(c) x0 = 5 et η = 0.1\n",
      "Xmin ***_*** E(Xmin) ***_***\n",
      "[2.5999999999999996, 0.9216000000000002] \n",
      "\n",
      "(d) x0 = 5 et η = 0.17\n",
      "Xmin ***_*** E(Xmin) ***_***\n",
      "[0.9199999999999999, 0.7332249600000007] \n",
      "\n",
      "(e) x0 = 5 et η = 1      :\n",
      " \n",
      "Xmin ***_*** E(Xmin) ***_***\n",
      "[-19, 221760]\n",
      "cette valeur tend vers infini ( une valeur assez grande)\n",
      "\n",
      "(f) x0 = 0 et η = 0.001\n",
      "Xmin ***_*** E(Xmin) ***_***\n",
      "[0.9494071180705481, 0.4414910598625541] \n",
      "\n"
     ]
    }
   ],
   "source": [
    "#(a) x0 = 5 et η = 0.001\n",
    "print(\"(a) x0 = 5 et η = 0.001\")\n",
    "print(\"Xmin ***_*** E(Xmin) ***_***\")\n",
    "print(gradient(1000,0.01,5,0.001,dE),\"\\n\")\n",
    "#(b) x0 = 5 et η = 0.01 \n",
    "print(\"(b) x0 = 5 et η = 0.01\")\n",
    "print(\"Xmin ***_*** E(Xmin) ***_***\")\n",
    "print(gradient(1000,0.01,5,0.01,dE),\"\\n\")\n",
    "#(c) x0 = 5 et η = 0.1 \n",
    "print(\"(c) x0 = 5 et η = 0.1\")\n",
    "print(\"Xmin ***_*** E(Xmin) ***_***\")\n",
    "print(gradient(1000,0.01,5,0.1,dE),\"\\n\")\n",
    "#(d) x0 = 5 et η = 0.17 \n",
    "print(\"(d) x0 = 5 et η = 0.17\")\n",
    "print(\"Xmin ***_*** E(Xmin) ***_***\")\n",
    "print(gradient(1000,0.01,5,0.17,dE),\"\\n\")\n",
    "#(e) x0 = 5 et η = 1 \n",
    "print(\"(e) x0 = 5 et η = 1      :\\n \")\n",
    "print(\"Xmin ***_*** E(Xmin) ***_***\")\n",
    "print(gradient(1000,0.01,5,1,dE))\n",
    "print(\"cette valeur tend vers infini ( une valeur assez grande)\\n\")\n",
    "\n",
    "#(f) x0 = 0 et η = 0.001 \n",
    "print(\"(f) x0 = 0 et η = 0.001\")\n",
    "print(\"Xmin ***_*** E(Xmin) ***_***\")\n",
    "print(gradient(1000,0.01,0,0.001,dE),\"\\n\")\n"
   ]
  },
  {
   "cell_type": "code",
   "execution_count": 10,
   "metadata": {},
   "outputs": [],
   "source": [
    "# \n",
    "gd_x= []\n",
    "gd_Ex=[]\n",
    "\n",
    "gd_x.append(gradient(1000,0.01,5,0.001,dE)[0])\n",
    "gd_x.append(gradient(1000,0.01,5,0.01,dE)[0])\n",
    "gd_x.append(gradient(1000,0.01,5,0.1,dE)[0])\n",
    "gd_x.append(gradient(1000,0.01,5,0.17,dE)[0])\n",
    "#gd_x.append(gradient(1000,0.01,5,1,dE)[0])\n",
    "gd_x.append(gradient(1000,0.01,0,0.001,dE)[0])\n",
    "#################################################\n",
    "gd_Ex.append(gradient(1000,0.01,5,0.001,dE)[1])\n",
    "gd_Ex.append(gradient(1000,0.01,5,0.01,dE)[1])\n",
    "gd_Ex.append(gradient(1000,0.01,5,0.1,dE)[1])\n",
    "gd_Ex.append(gradient(1000,0.01,5,0.17,dE)[1])\n",
    "#gd_Ex.append(gradient(1000,0.01,5,1,dE)[1])\n",
    "gd_Ex.append(gradient(1000,0.01,0,0.001,dE)[1])\n",
    "\n",
    "## \n",
    "#print(gd_x)\n",
    "#print(\"\\n\",gd_Ex)"
   ]
  },
  {
   "cell_type": "code",
   "execution_count": 11,
   "metadata": {},
   "outputs": [
    {
     "data": {
      "image/png": "[encoded data removed]",
      "text/plain": [
       "<Figure size 720x720 with 1 Axes>"
      ]
     },
     "metadata": {
      "needs_background": "light"
     },
     "output_type": "display_data"
    }
   ],
   "source": [
    "plt.figure(figsize=(10,10))\n",
    "plt.scatter(gd_x, gd_Ex)\n",
    "w = np.arange(0,6.0, 0.1)\n",
    "plt.plot(w, E(w),'r')\n",
    "#plt.text(gd_x,gd_Ex,\"point :\")\n",
    "plt.annotate(\"(a) x0 = 5 et η = 0.001\", xy=(4.976, -0.5611480842240004), xytext=(3, 9), arrowprops=dict(facecolor='green', shrink=0.05))\n",
    "plt.annotate(\"(b) x0 = 5 et η = 0.01\", xy=(4.76, -4.383498240000003), xytext=(4.5, 11), arrowprops=dict(facecolor='red', shrink=0.05))\n",
    "plt.annotate(\"(c) x0 = 5 et η = 0.1\", xy=(2.5999999999999996, 0.9216000000000002), xytext=(2.5, 10), arrowprops=dict(facecolor='blue', shrink=0.05))\n",
    "plt.annotate(\"(d) x0 = 5 et η = 0.17\", xy=(0.9199999999999999, 0.7332249600000007), xytext=(1, 10), arrowprops=dict(facecolor='yellow', shrink=0.05))\n",
    "plt.annotate(\"(f) x0 = 0 et η = 0.001\", xy=(0.9494071180705481, 0.4414910598625541), xytext=(1.5, 7), arrowprops=dict(facecolor='cyan', shrink=0.05))\n",
    "plt.title(\"l’évolution des minimums de la fonction E(x) trouvés au cours des itérations. \")\n",
    "plt.grid()\n",
    "\n",
    "plt.show()\n",
    "\n",
    "\n"
   ]
  },
  {
   "cell_type": "markdown",
   "metadata": {},
   "source": [
    "# Descente de gradient pour la régression linéaire "
   ]
  },
  {
   "cell_type": "code",
   "execution_count": 12,
   "metadata": {},
   "outputs": [],
   "source": [
    "\"\"\" Regression linear example \n",
    "    In our example, G(x,y) = SUM(ax+y - y) \n",
    "\"\"\"\n",
    "def g(x,y,a,b):\n",
    "    return (a*x+b-y)**2\n"
   ]
  },
  {
   "cell_type": "code",
   "execution_count": 13,
   "metadata": {},
   "outputs": [],
   "source": [
    "def dg(x, y, a, b):\n",
    "    return {'dx': 2*(a*(x)**2 + b*x -y*x), 'dy': 2*(a*x + b - y)}\n"
   ]
  },
  {
   "cell_type": "code",
   "execution_count": 14,
   "metadata": {},
   "outputs": [],
   "source": [
    "def gradient_reg_linear(max_iter, eps, step, x, y, df):\n",
    "    nb_sample_data = x.shape[0]\n",
    "    rg_sample = range(1, nb_sample_data)\n",
    "    \n",
    "    a= np.random.random(x.shape[1])\n",
    "    b= np.random.random(x.shape[1])\n",
    "    E=sum([a*x[j]+b-y[j] for j in rg_sample])\n",
    "    print(E)\n",
    "    \n",
    "    for i in range(max_iter):\n",
    "        #Calcul du  gradient\n",
    "        grad_a = sum([2*(a*x[j]**2+b*x[j]-y[j]*x[j]) for j in rg_sample])\n",
    "        grad_b = sum([2*(a*x[j]+b-y[j]) for j in rg_sample])\n",
    "        \n",
    "        #Descente de gradient\n",
    "        tmp_a = a - step * grad_a\n",
    "        tmp_b = b - step * grad_b\n",
    "        \n",
    "        #Mise_A_Jour\n",
    "        a = tmp_a\n",
    "        b = tmp_b\n",
    "        \n",
    "        #Calcul d' error\n",
    "        e = sum([a*x[j]+b-y[j] for j in rg_sample])\n",
    "\n",
    "        if abs(E-e) <= eps:\n",
    "            return ({'a': a, 'b': b}, i)\n",
    "            \n",
    "        E = e\n",
    "    return ({'a': a, 'b': b}, max_iter)\n"
   ]
  },
  {
   "cell_type": "code",
   "execution_count": 15,
   "metadata": {},
   "outputs": [
    {
     "name": "stdout",
     "output_type": "stream",
     "text": [
      "z :\n",
      " [[-0.63762922]\n",
      " [-0.94653793]\n",
      " [-1.49021741]\n",
      " [ 1.0310975 ]\n",
      " [ 1.18541996]\n",
      " [-0.49600424]\n",
      " [-0.45870869]\n",
      " [ 0.99803049]\n",
      " [-1.18330907]\n",
      " [-0.74045652]\n",
      " [ 1.73946725]\n",
      " [-0.44784565]\n",
      " [-0.56340728]\n",
      " [-0.31861213]\n",
      " [ 1.76513324]\n",
      " [-0.22005822]\n",
      " [-0.51771617]\n",
      " [-0.11474177]\n",
      " [-0.46965662]\n",
      " [-0.02939699]\n",
      " [-0.14349503]\n",
      " [-0.08835833]\n",
      " [-0.61232308]\n",
      " [-0.65938476]\n",
      " [-1.40738806]\n",
      " [ 1.07443154]\n",
      " [-0.89363417]\n",
      " [ 0.43500689]\n",
      " [-0.43184466]\n",
      " [ 0.26331466]\n",
      " [-0.05172922]\n",
      " [ 0.00560248]\n",
      " [-1.22777859]\n",
      " [ 1.07003714]\n",
      " [-0.50290828]\n",
      " [ 0.87512913]\n",
      " [ 0.97347081]\n",
      " [ 0.09989668]\n",
      " [-0.35149018]\n",
      " [ 0.33943698]\n",
      " [ 0.04394681]\n",
      " [-1.24109327]\n",
      " [ 0.28205158]\n",
      " [-2.06937248]\n",
      " [-0.55601382]\n",
      " [-0.03137197]\n",
      " [ 0.40835385]\n",
      " [-0.20742206]\n",
      " [ 1.38358052]\n",
      " [-0.0950458 ]\n",
      " [-0.7670181 ]\n",
      " [ 0.80221817]\n",
      " [ 0.19126327]\n",
      " [ 1.12486488]\n",
      " [-0.33578959]\n",
      " [ 1.35002756]\n",
      " [ 1.24048197]\n",
      " [-0.78207928]\n",
      " [ 0.18118471]\n",
      " [ 0.38553462]\n",
      " [ 0.11222841]\n",
      " [ 0.99984816]\n",
      " [ 0.46483007]\n",
      " [ 0.89603425]\n",
      " [-1.74518704]\n",
      " [ 0.91042396]\n",
      " [-1.59800781]\n",
      " [ 0.62035111]\n",
      " [ 2.00868565]\n",
      " [ 0.24236977]\n",
      " [-0.33089873]\n",
      " [-0.68410156]\n",
      " [-0.66280336]\n",
      " [-1.90197485]\n",
      " [ 1.90828722]\n",
      " [ 0.0174451 ]\n",
      " [-0.36226215]\n",
      " [ 0.26103888]\n",
      " [-0.95701041]\n",
      " [-1.31435575]\n",
      " [ 0.79672738]\n",
      " [-0.31938589]\n",
      " [ 0.13182529]\n",
      " [ 1.03071242]\n",
      " [ 0.08624585]\n",
      " [-1.26912204]\n",
      " [-1.60071887]\n",
      " [-0.04982927]\n",
      " [-0.51684148]\n",
      " [-1.65577866]\n",
      " [-0.00645402]\n",
      " [ 0.10707041]\n",
      " [ 1.72756224]\n",
      " [-0.29747211]\n",
      " [ 0.12238491]\n",
      " [ 1.44246787]\n",
      " [-1.54729644]\n",
      " [ 0.45430957]\n",
      " [-0.88153688]\n",
      " [-0.63266585]]\n",
      "t :\n",
      " [-3.93617297e+01 -5.45309603e+01 -8.65361979e+01  5.80872311e+01\n",
      "  8.12748256e+01 -3.61831517e+01 -3.31664077e+01  5.76175620e+01\n",
      " -6.78389599e+01 -4.91283598e+01  1.02651688e+02 -2.44085153e+01\n",
      " -3.27646984e+01 -2.13777825e+01  1.10320275e+02 -8.30698621e+00\n",
      " -3.37927289e+01 -1.62948021e+00 -2.46349871e+01 -6.38283433e+00\n",
      " -1.15041200e+01  9.99074717e-01 -3.91839993e+01 -3.52941094e+01\n",
      " -8.20673970e+01  6.42757572e+01 -6.66640165e+01  2.57987954e+01\n",
      " -2.35466168e+01  1.61820067e+01  2.86276134e+00 -1.85450463e+00\n",
      " -8.19049662e+01  7.12434365e+01 -3.05223835e+01  5.67157937e+01\n",
      "  6.34887870e+01  2.87857143e+00 -1.85421518e+01  2.14036548e+01\n",
      "  2.07609956e+00 -7.31889233e+01  2.48069043e+01 -1.22262914e+02\n",
      " -2.86394595e+01  4.85678087e-02  2.21861488e+01 -9.94284666e+00\n",
      "  7.83682594e+01  8.41068863e-01 -4.28408662e+01  4.29667284e+01\n",
      "  6.51106740e-01  6.66015320e+01 -2.27080639e+01  7.86964952e+01\n",
      "  7.41896091e+01 -4.25475716e+01  1.40052062e+01  2.39224353e+01\n",
      "  1.78892373e-01  6.28844299e+01  3.64988834e+01  5.08379635e+01\n",
      " -1.02241021e+02  5.38318917e+01 -1.00572175e+02  3.64235382e+01\n",
      "  1.22625469e+02  1.89028010e+01 -2.68136001e+01 -4.25745107e+01\n",
      " -4.60394306e+01 -1.19848274e+02  1.18352120e+02  1.62827960e+00\n",
      " -1.96908534e+01  1.55726173e+01 -5.87090515e+01 -7.69742217e+01\n",
      "  5.39242980e+01 -1.68080488e+01  1.10165583e+01  6.60131062e+01\n",
      "  7.83208576e+00 -7.11907677e+01 -1.01811188e+02 -7.14855181e+00\n",
      " -3.79452700e+01 -9.88176540e+01 -4.04916350e+00  1.08129665e+01\n",
      "  9.85556640e+01 -2.07066178e+01  7.24979195e+00  8.15564201e+01\n",
      " -8.90315076e+01  3.26546052e+01 -5.63671398e+01 -3.81787269e+01]\n"
     ]
    }
   ],
   "source": [
    "import sklearn.datasets as datasets\n",
    "nb_sample = 100\n",
    "z,t = datasets.make_regression(n_samples=nb_sample, n_features=1, noise=4)\n",
    "print(\"z :\\n\",z)\n",
    "print(\"t :\\n\",t)"
   ]
  },
  {
   "cell_type": "code",
   "execution_count": 16,
   "metadata": {},
   "outputs": [
    {
     "name": "stdout",
     "output_type": "stream",
     "text": [
      "[336.58601602]\n",
      "(a) η = 0.001, nombremax = 100  :\t  ({'a': array([60.52746405]), 'b': array([0.1777677])}, 69)\n",
      "[301.78281608]\n",
      "(b) η = 0.001, nombremax = 500  :\t  ({'a': array([60.52746357]), 'b': array([0.17776751])}, 69)\n",
      "[320.8885757]\n",
      "(c) η = 0.001, nombremax = 1000  :\t  ({'a': array([60.52746212]), 'b': array([0.17776711])}, 69)\n",
      "[360.48145983]\n",
      "(d) η = 0.01, nombremax = 1000  :\t  ({'a': array([-597276.39278184]), 'b': array([1957629.95332143])}, 1000)\n",
      "[386.87974662]\n"
     ]
    },
    {
     "name": "stderr",
     "output_type": "stream",
     "text": [
      "c:\\program files\\python36\\lib\\site-packages\\ipykernel_launcher.py:24: RuntimeWarning: overflow encountered in add\n",
      "c:\\program files\\python36\\lib\\site-packages\\ipykernel_launcher.py:12: RuntimeWarning: overflow encountered in add\n",
      "  if sys.path[0] == '':\n",
      "c:\\program files\\python36\\lib\\site-packages\\ipykernel_launcher.py:13: RuntimeWarning: overflow encountered in add\n",
      "  del sys.path[0]\n",
      "c:\\program files\\python36\\lib\\site-packages\\ipykernel_launcher.py:24: RuntimeWarning: invalid value encountered in add\n",
      "c:\\program files\\python36\\lib\\site-packages\\ipykernel_launcher.py:26: RuntimeWarning: invalid value encountered in less_equal\n",
      "c:\\program files\\python36\\lib\\site-packages\\ipykernel_launcher.py:12: RuntimeWarning: invalid value encountered in add\n",
      "  if sys.path[0] == '':\n",
      "c:\\program files\\python36\\lib\\site-packages\\ipykernel_launcher.py:13: RuntimeWarning: invalid value encountered in add\n",
      "  del sys.path[0]\n"
     ]
    },
    {
     "name": "stdout",
     "output_type": "stream",
     "text": [
      "(e) η = 1, nombremax = 1000  :\t  ({'a': array([nan]), 'b': array([nan])}, 1000)\n"
     ]
    }
   ],
   "source": [
    "#gradient_reg_linear(max_iter, eps, step, x, y, df)\n",
    "\n",
    "#(a) η = 0.001, nombremax = 100\n",
    "print(\"(a) η = 0.001, nombremax = 100  :\\t \",gradient_reg_linear(100,0.001,0.001, z, t ,dg))\n",
    "#(b) η = 0.001, nombremax = 500 \n",
    "print(\"(b) η = 0.001, nombremax = 500  :\\t \",gradient_reg_linear(500,0.001,0.001, z, t ,dg))\n",
    "#(c) η = 0.001, nombremax = 1000 \n",
    "print(\"(c) η = 0.001, nombremax = 1000  :\\t \",gradient_reg_linear(1000,0.001,0.001, z, t ,dg))\n",
    "#(d) η = 0.01, nombremax = 1000 \n",
    "print(\"(d) η = 0.01, nombremax = 1000  :\\t \",gradient_reg_linear(1000,0.001,0.01, z, t ,dg))\n",
    "#(e) η = 1, nombremax = 1000 \n",
    "print(\"(e) η = 1, nombremax = 1000  :\\t \",gradient_reg_linear(1000,0.001,1, z, t ,dg))"
   ]
  },
  {
   "cell_type": "code",
   "execution_count": null,
   "metadata": {},
   "outputs": [],
   "source": []
  },
  {
   "cell_type": "code",
   "execution_count": 17,
   "metadata": {},
   "outputs": [
    {
     "name": "stdout",
     "output_type": "stream",
     "text": [
      "[331.79051434]\n"
     ]
    },
    {
     "data": {
      "image/png": "[encoded data removed]",
      "text/plain": [
       "<Figure size 504x504 with 1 Axes>"
      ]
     },
     "metadata": {
      "needs_background": "light"
     },
     "output_type": "display_data"
    }
   ],
   "source": [
    "tt = gradient_reg_linear(100,0.001,0.001, z, t ,dg)\n",
    "zmin = min(z)\n",
    "zmax = max(z)\n",
    "range_z = range(int(zmin), int(zmax))\n",
    "range_t = [ tt[0]['a']*e + tt[0]['b'] for e in range_z]   \n",
    "\n",
    "plt.figure(figsize=(7,7))\n",
    "plt.scatter(z,t)\n",
    "plt.plot(range_z, range_t,c=\"r\")\n",
    "plt.title(\"le jeu de données générer avec Gradient_reg_linear \")\n",
    "plt.grid()\n",
    "plt.show()\n",
    "\n"
   ]
  },
  {
   "cell_type": "code",
   "execution_count": null,
   "metadata": {},
   "outputs": [],
   "source": []
  },
  {
   "cell_type": "code",
   "execution_count": 18,
   "metadata": {},
   "outputs": [],
   "source": [
    "#Utilison la fonction stats.linregress\n",
    "\n",
    "import matplotlib.pyplot as plt\n",
    "from scipy import stats\n",
    "x = [e[0] for e in z]\n",
    "slope, intercept, r_value, p_value, std_err = stats.linregress(x, t)"
   ]
  },
  {
   "cell_type": "code",
   "execution_count": 19,
   "metadata": {},
   "outputs": [
    {
     "name": "stdout",
     "output_type": "stream",
     "text": [
      "r-squared: 0.993949414163137\n",
      "slope: 60.53421006215134\n",
      "intercept: 0.16875366760641786\n",
      "p_value: 2.686389251740442e-220\n",
      "std_err: 0.4770945042131428\n"
     ]
    }
   ],
   "source": [
    "print(\"r-squared:\", r_value**2)\n",
    "print(\"slope:\", slope)\n",
    "print(\"intercept:\", intercept)\n",
    "print(\"p_value:\", p_value**2)\n",
    "print(\"std_err:\", std_err)"
   ]
  },
  {
   "cell_type": "code",
   "execution_count": 27,
   "metadata": {},
   "outputs": [
    {
     "data": {
      "image/png": "[encoded data removed]",
      "text/plain": [
       "<Figure size 1080x504 with 2 Axes>"
      ]
     },
     "metadata": {
      "needs_background": "light"
     },
     "output_type": "display_data"
    }
   ],
   "source": [
    "\n",
    "plt.rcParams[\"figure.figsize\"] = (15,7)\n",
    "plt.subplot(121)\n",
    "plt.plot(z, t, 'o', label='original data')\n",
    "plt.plot(z, intercept + slope*z, 'r', label='fitted line')\n",
    "plt.title('Iris Data avec donne original')\n",
    "plt.legend()\n",
    "\n",
    "\n",
    "\n",
    "plt.subplot(122)\n",
    "plt.scatter(z,t,label='G_reg_line data')\n",
    "plt.plot(range_z, range_t,c=\"r\",label='fitted line')\n",
    "plt.title(\"le jeu de données généré avec Gradient_reg_linear \")\n",
    "plt.grid()\n",
    "plt.legend()\n",
    "\n",
    "plt.show()"
   ]
  },
  {
   "cell_type": "code",
   "execution_count": null,
   "metadata": {},
   "outputs": [],
   "source": []
  }
 ],
 "metadata": {
  "kernelspec": {
   "display_name": "Python 3",
   "language": "python",
   "name": "python3"
  },
  "language_info": {
   "codemirror_mode": {
    "name": "ipython",
    "version": 3
   },
   "file_extension": ".py",
   "mimetype": "text/x-python",
   "name": "python",
   "nbconvert_exporter": "python",
   "pygments_lexer": "ipython3",
   "version": "3.6.7"
  }
 },
 "nbformat": 4,
 "nbformat_minor": 2
}
